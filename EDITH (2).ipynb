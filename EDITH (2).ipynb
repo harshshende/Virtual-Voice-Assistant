{
 "cells": [
  {
   "cell_type": "code",
   "execution_count": 1,
   "metadata": {},
   "outputs": [],
   "source": [
    "import speech_recognition as sr\n",
    "import pyaudio\n",
    "import pyttsx3\n",
    "import datetime as dt\n",
    "import pyjokes\n",
    "import pyautogui\n",
    "import wikipedia\n",
    "import wolframalpha\n",
    "import os\n",
    "import smtplib \n",
    "import requests \n",
    "import json\n",
    "import pywhatkit\n",
    "import psutil"
   ]
  },
  {
   "cell_type": "code",
   "execution_count": 2,
   "metadata": {},
   "outputs": [],
   "source": [
    "def wish():\n",
    "    current_time = dt.datetime.now() \n",
    "    if ( current_time.hour  >= 0 and current_time.hour  < 12): \n",
    "        speak('Good morning sir!, How can I help you')\n",
    "    elif (current_time.hour  >= 12 and current_time.hour  < 17):\n",
    "        speak('Good Afternoon sir!, How can I help you')\n",
    "    else :\n",
    "        speak('Good Evening sir!, How can I help you')"
   ]
  },
  {
   "cell_type": "code",
   "execution_count": 3,
   "metadata": {},
   "outputs": [],
   "source": [
    "def info():\n",
    "    speak(\"\"\"I'm EDITH, I was built on 17 march 2021. I'm an AI virtual assistant Developed by Harshad\"\"\")"
   ]
  },
  {
   "cell_type": "code",
   "execution_count": 4,
   "metadata": {},
   "outputs": [],
   "source": [
    "def time():\n",
    "    current_time = dt.datetime.now()\n",
    "    a = current_time.strftime(\"%H:%M:%S\")\n",
    "    if (current_time.hour >= 0 and current_time.hour < 12): \n",
    "        speak(\"its morning\" )\n",
    "        speak(a)\n",
    "        \n",
    "    elif (current_time.hour >= 12 and current_time.hour < 17):\n",
    "        speak(\"its Afternoon\")\n",
    "        speak(a)\n",
    "        \n",
    "    else :\n",
    "        speak(\"Its Evening\")\n",
    "        speak(a) "
   ]
  },
  {
   "cell_type": "code",
   "execution_count": 5,
   "metadata": {},
   "outputs": [],
   "source": [
    "def jokes():\n",
    "    speak(\"\"\"Which category jokes do you want Neutral or tangled or All \"\"\")\n",
    "    a = command().lower()\n",
    "    if  a == \"neutral\":\n",
    "        My_joke = pyjokes.get_joke(language=\"en\", category=\"neutral\")\n",
    "        speak(My_joke)\n",
    "        \n",
    "    if  a == \"tangled\":\n",
    "        My_joke = pyjokes.get_joke(language=\"de\", category=\"twister\")\n",
    "        speak(My_joke)\n",
    "        \n",
    "    if  a == \"all\":\n",
    "        My_joke = pyjokes.get_joke(language=\"en\", category=\"all\")\n",
    "        speak(My_joke)"
   ]
  },
  {
   "cell_type": "code",
   "execution_count": 6,
   "metadata": {},
   "outputs": [],
   "source": [
    "def screenshot():\n",
    "    a = pyautogui.screenshot() \n",
    "    a.save(r'C:/Users/ASUS/Desktop/screenshot/file.png')\n",
    "    speak(\"Sir screeshot is saved\")"
   ]
  },
  {
   "cell_type": "code",
   "execution_count": 7,
   "metadata": {},
   "outputs": [],
   "source": [
    " def wiki():\n",
    "    speak(\"what would you like to search\")\n",
    "    a = command().lower()\n",
    "    \n",
    "    try:  \n",
    "        app_id = \"enter api key\"\n",
    "        client = wolframalpha.Client(app_id) \n",
    "        res = client.query(a) \n",
    "        answer = next(res.results).text \n",
    "        print(answer) \n",
    "        speak(\"Your answer is \" + answer) \n",
    "           \n",
    "    except: \n",
    "          \n",
    "        query = a.split(' ')  \n",
    "        query = \" \".join(query[0:]) \n",
    "        speak(\"I am searching for \" + a) \n",
    "        print(wikipedia.summary(query, sentences = 3)) \n",
    "        speak(wikipedia.summary(query, sentences = 3)) \n",
    "        \n",
    "         "
   ]
  },
  {
   "cell_type": "code",
   "execution_count": 8,
   "metadata": {},
   "outputs": [],
   "source": [
    "def weather():\n",
    "    api_key = \"Enter Api key\"\n",
    "\n",
    "    base_url = \"http://api.openweathermap.org/data/2.5/weather?\"\n",
    "    speak(\"Which city \")\n",
    "    # Give city name\n",
    "    city_name = command().lower()\n",
    "    complete_url = base_url + \"appid=\" + api_key + \"&q=\" + city_name\n",
    "    response = requests.get(complete_url)\n",
    "    x = response.json()  \n",
    "\n",
    "    if x[\"cod\"] != \"404\":\n",
    "        y = x[\"main\"]\n",
    "        current_temperature = y[\"temp\"]\n",
    "        current_pressure = y[\"pressure\"]\n",
    "        current_humidiy = y[\"humidity\"]\n",
    "        z = x[\"weather\"]\n",
    "        weather_description = z[0][\"description\"]\n",
    "        speak(\" Temperature (in kelvin unit) : \" +\n",
    "                        str(current_temperature) + \n",
    "              \"\\n atmospheric pressure (in hPa unit) : \" +\n",
    "                        str(current_pressure) +\n",
    "              \"\\n humidity (in percentage) : \" +\n",
    "                        str(current_humidiy) +\n",
    "              \"\\n description : \" +\n",
    "                        str(weather_description))\n",
    "\n",
    "    else:\n",
    "        speak(\" City Not Found \")"
   ]
  },
  {
   "cell_type": "code",
   "execution_count": 9,
   "metadata": {},
   "outputs": [],
   "source": [
    "def send_mail():\n",
    "    list1 = {\n",
    "        'harry': 'harry@gmail.com'\n",
    "    }\n",
    "    \n",
    "    def mail(receiver, subject, message):\n",
    "        server  = smtplib.SMTP('smtp.gmail.com', 587)\n",
    "        server.starttls()\n",
    "        server.login('abc@gmail.com', 'abc@123')#enter your mail and password\n",
    "        email = EmailMessage()\n",
    "        email['From'] ='abc@gmail.com'\n",
    "        email['To'] = receiver\n",
    "        email['subject'] = subject\n",
    "        email.set_content(message)\n",
    "        server.send_message(email)\n",
    "\n",
    "    speak(\"To Whom\")\n",
    "    name = command().lower()\n",
    "    receiver = list1[name]\n",
    "    speak(\"What is subject\")\n",
    "    subject = command().lower()\n",
    "    speak(\"Message Please\")\n",
    "    message = command().lower()\n",
    "    mail(receiver, subject, message)\n",
    "    \n",
    "   "
   ]
  },
  {
   "cell_type": "code",
   "execution_count": 10,
   "metadata": {},
   "outputs": [],
   "source": [
    "def battery_info():\n",
    "    def convertTime(seconds):\n",
    "        minutes, seconds = divmod(seconds, 60)\n",
    "        hours, minutes = divmod(minutes, 60)\n",
    "        return \"%d:%02d:%02d\" % (hours, minutes, seconds)\n",
    "\n",
    "    battery = psutil.sensors_battery()\n",
    "    speak(\"Battery Percentage : \" + \" % s \" %battery.percent)\n",
    "    speak(\"Battery left : \" + \"% s\" %convertTime(battery.secsleft))\n"
   ]
  },
  {
   "cell_type": "code",
   "execution_count": 11,
   "metadata": {},
   "outputs": [],
   "source": [
    "def signin_off():\n",
    "    current_time = dt.datetime.now() \n",
    "    if ( current_time.hour  >= 5 and current_time.hour  < 12):\n",
    "        speak('Signing off')\n",
    "        speak('Thank You Sir!, Have a nice day')\n",
    "        \n",
    "    elif (current_time.hour  >= 12 and current_time.hour  < 17):\n",
    "        speak('Signing off')\n",
    "        speak('Thank You Sir!, Have a nice day')\n",
    "        \n",
    "    else :\n",
    "        speak('Good night sir!')\n",
    "    \n"
   ]
  },
  {
   "cell_type": "code",
   "execution_count": 12,
   "metadata": {},
   "outputs": [],
   "source": [
    "engine = pyttsx3.init()\n",
    "\n",
    "def speak(a):\n",
    "    engine.say(a)\n",
    "    engine.runAndWait()"
   ]
  },
  {
   "cell_type": "code",
   "execution_count": 13,
   "metadata": {},
   "outputs": [],
   "source": [
    "def command():\n",
    "    r = sr.Recognizer()\n",
    "    with sr.Microphone() as source:\n",
    "        print('Speak anything: ')\n",
    "        audio = r.listen(source)\n",
    "    try:\n",
    "        text = r.recognize_google(audio)\n",
    "        print('You said: {}'.format(text))\n",
    "    except:\n",
    "        print(\"Sorry\")\n",
    "    return text"
   ]
  },
  {
   "cell_type": "code",
   "execution_count": null,
   "metadata": {},
   "outputs": [
    {
     "name": "stdout",
     "output_type": "stream",
     "text": [
      "Speak anything: \n"
     ]
    }
   ],
   "source": [
    "def main():\n",
    "    wish()\n",
    "    while (True):\n",
    "        text  =  command().lower()\n",
    "\n",
    "        if ('time' in text):\n",
    "            time() \n",
    "\n",
    "        elif ('about yourself' in text or 'about you' in text):\n",
    "            info() \n",
    "            \n",
    "        elif ('jokes' in text or 'funny jokes' in text or  'joke' in text):\n",
    "            jokes()\n",
    "            \n",
    "        elif ('screenshot' in text or 'print screen' in text):\n",
    "            screenshot()\n",
    "            \n",
    "        elif('search' in text or 'find me' in text or 'answer of' in text ):\n",
    "            wiki()\n",
    "        \n",
    "        elif('weather' in text):\n",
    "            weather()\n",
    "        \n",
    "        elif ('play' in text):\n",
    "            song = text.replace('play', ' ')\n",
    "            speak('Playing'+ song )\n",
    "            pywhatkit.playonyt(song)\n",
    "            \n",
    "        elif ('battery' in text):\n",
    "            battery_info()\n",
    "            \n",
    "        elif ('mail' in text):\n",
    "            send_mail()\n",
    "        \n",
    "            \n",
    "        elif ('bye' in text or 'i am done' in text):\n",
    "            signin_off()\n",
    "            break\n",
    "    \n",
    "       \n",
    "main()"
   ]
  },
  {
   "cell_type": "code",
   "execution_count": null,
   "metadata": {},
   "outputs": [],
   "source": []
  },
  {
   "cell_type": "code",
   "execution_count": null,
   "metadata": {},
   "outputs": [],
   "source": []
  },
  {
   "cell_type": "code",
   "execution_count": null,
   "metadata": {},
   "outputs": [],
   "source": []
  }
 ],
 "metadata": {
  "kernelspec": {
   "display_name": "Python 3",
   "language": "python",
   "name": "python3"
  },
  "language_info": {
   "codemirror_mode": {
    "name": "ipython",
    "version": 3
   },
   "file_extension": ".py",
   "mimetype": "text/x-python",
   "name": "python",
   "nbconvert_exporter": "python",
   "pygments_lexer": "ipython3",
   "version": "3.8.5"
  }
 },
 "nbformat": 4,
 "nbformat_minor": 4
}
